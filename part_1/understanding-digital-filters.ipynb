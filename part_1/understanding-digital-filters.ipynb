{
 "cells": [
  {
   "cell_type": "markdown",
   "id": "da0e6542",
   "metadata": {},
   "source": [
    "# Understanding Digital Filters"
   ]
  },
  {
   "cell_type": "markdown",
   "id": "6f9bf797",
   "metadata": {},
   "source": [
    "## ButterWorth Filter"
   ]
  },
  {
   "cell_type": "code",
   "execution_count": 3,
   "id": "e05b8e57",
   "metadata": {},
   "outputs": [],
   "source": [
    "# import required modules\n",
    "import numpy as np\n",
    "import matplotlib.pyplot as plt\n",
    "from scipy import signal\n",
    "import math"
   ]
  },
  {
   "cell_type": "code",
   "execution_count": 2,
   "id": "b64d97cf",
   "metadata": {},
   "outputs": [],
   "source": [
    "# explicit function to convert\n",
    "# edge frequencies\n",
    "def convertX(f_sample, f):\n",
    "\tw = []\n",
    "\t\n",
    "\tfor i in range(len(f)):\n",
    "\t\tb = 2*((f[i]/2)/(f_sample/2))\n",
    "\t\tw.append(b)\n",
    "\n",
    "\tomega_mine = []\n",
    "\n",
    "\tfor i in range(len(w)):\n",
    "\t\tc = (2/Td)*np.tan(w[i]/2)\n",
    "\t\tomega_mine.append(c)\n",
    "\n",
    "\treturn omega_mine\n",
    "\n"
   ]
  },
  {
   "cell_type": "code",
   "execution_count": 4,
   "id": "53e0a49b",
   "metadata": {},
   "outputs": [],
   "source": [
    "# Specifications of Filter\n",
    "\n",
    "# sampling frequency\n",
    "f_sample = 7000\n",
    "\n",
    "# pass band frequency\n",
    "f_pass = [1400, 2100]\n",
    "\n",
    "# stop band frequency\n",
    "f_stop = [1050, 2450]\n",
    "\n",
    "# pass band ripple\n",
    "fs = 0.5\n",
    "\n",
    "# Sampling Time\n",
    "Td = 1\n",
    "\n",
    "# pass band ripple\n",
    "g_pass = 0.4\n",
    "\n",
    "# stop band attenuation\n",
    "g_stop = 50"
   ]
  },
  {
   "cell_type": "code",
   "execution_count": 5,
   "id": "1444817b",
   "metadata": {},
   "outputs": [
    {
     "name": "stdout",
     "output_type": "stream",
     "text": [
      "Order of the Filter= 12\n",
      "Cut-off frequency= [0.39689099 0.63196761] rad/s \n"
     ]
    }
   ],
   "source": [
    "# Conversion to prewrapped analog\n",
    "# frequency\n",
    "omega_p=convertX(f_sample,f_pass)\n",
    "omega_s=convertX(f_sample,f_stop)\n",
    "\t\n",
    "# Design of Filter using signal.buttord\n",
    "# function\n",
    "N, Wn = signal.buttord(omega_p, omega_s,\n",
    "\t\t\t\t\tg_pass, g_stop,\n",
    "\t\t\t\t\tanalog=True)\n",
    "\t\n",
    "\t\n",
    "# Printing the values of order & cut-off frequency\n",
    "# N is the order\n",
    "print(\"Order of the Filter=\", N)\n",
    "\n",
    "# Wn is the cut-off freq of the filter\n",
    "print(\"Cut-off frequency= {:} rad/s \".format(Wn))\n",
    "\t\n",
    "\t\n",
    "# Conversion in Z-domain\n",
    "\t\n",
    "# b is the numerator of the filter & a is\n",
    "# the denominator\n",
    "b, a = signal.butter(N, Wn, 'bandpass', True)\n",
    "z, p = signal.bilinear(b, a, fs)\n",
    "\n",
    "# w is the freq in z-domain & h is the\n",
    "# magnitude in z-domain\n",
    "w, h = signal.freqz(z, p, 512)"
   ]
  },
  {
   "cell_type": "code",
   "execution_count": 13,
   "id": "fcc73a3e",
   "metadata": {},
   "outputs": [
    {
     "data": {
      "image/png": "[encoded data removed]",
      "text/plain": [
       "<Figure size 432x288 with 1 Axes>"
      ]
     },
     "metadata": {
      "needs_background": "light"
     },
     "output_type": "display_data"
    }
   ],
   "source": [
    "# Magnitude Response\n",
    "plt.semilogx(w, 20*np.log10(abs(h)))\n",
    "plt.xscale('log')\n",
    "plt.title('Butterworth filter frequency response')\n",
    "plt.xlabel('Frequency [Hz]')\n",
    "plt.ylabel('Amplitude [dB]')\n",
    "plt.margins(0, 0.1)\n",
    "plt.grid(which='both', axis='both')\n",
    "plt.axvline(100, color='green')\n",
    "plt.show()\n",
    "\n"
   ]
  },
  {
   "cell_type": "code",
   "execution_count": 6,
   "id": "4d08613c",
   "metadata": {},
   "outputs": [
    {
     "data": {
      "image/png": "[encoded data removed]",
      "text/plain": [
       "<Figure size 432x288 with 1 Axes>"
      ]
     },
     "metadata": {
      "needs_background": "light"
     },
     "output_type": "display_data"
    }
   ],
   "source": [
    "# Impulse Response\n",
    "imp = signal.unit_impulse(40)\n",
    "c, d = signal.butter(N, 0.5)\n",
    "response = signal.lfilter(c, d, imp)\n",
    "\n",
    "plt.stem(np.arange(0, 40), imp, markerfmt='D', use_line_collection=True)\n",
    "plt.stem(np.arange(0, 40), response, use_line_collection=True)\n",
    "plt.margins(0, 0.1)\n",
    "\n",
    "plt.xlabel('Time [samples]')\n",
    "plt.ylabel('Amplitude')\n",
    "plt.grid(True)\n",
    "plt.show()"
   ]
  },
  {
   "cell_type": "code",
   "execution_count": 17,
   "id": "51ce5ccc",
   "metadata": {},
   "outputs": [
    {
     "name": "stdout",
     "output_type": "stream",
     "text": [
      "Help on function unit_impulse in module scipy.signal._waveforms:\n",
      "\n",
      "unit_impulse(shape, idx=None, dtype=<class 'float'>)\n",
      "    Unit impulse signal (discrete delta function) or unit basis vector.\n",
      "    \n",
      "    Parameters\n",
      "    ----------\n",
      "    shape : int or tuple of int\n",
      "        Number of samples in the output (1-D), or a tuple that represents the\n",
      "        shape of the output (N-D).\n",
      "    idx : None or int or tuple of int or 'mid', optional\n",
      "        Index at which the value is 1.  If None, defaults to the 0th element.\n",
      "        If ``idx='mid'``, the impulse will be centered at ``shape // 2`` in\n",
      "        all dimensions.  If an int, the impulse will be at `idx` in all\n",
      "        dimensions.\n",
      "    dtype : data-type, optional\n",
      "        The desired data-type for the array, e.g., ``numpy.int8``.  Default is\n",
      "        ``numpy.float64``.\n",
      "    \n",
      "    Returns\n",
      "    -------\n",
      "    y : ndarray\n",
      "        Output array containing an impulse signal.\n",
      "    \n",
      "    Notes\n",
      "    -----\n",
      "    The 1D case is also known as the Kronecker delta.\n",
      "    \n",
      "    .. versionadded:: 0.19.0\n",
      "    \n",
      "    Examples\n",
      "    --------\n",
      "    An impulse at the 0th element (:math:`\\delta[n]`):\n",
      "    \n",
      "    >>> from scipy import signal\n",
      "    >>> signal.unit_impulse(8)\n",
      "    array([ 1.,  0.,  0.,  0.,  0.,  0.,  0.,  0.])\n",
      "    \n",
      "    Impulse offset by 2 samples (:math:`\\delta[n-2]`):\n",
      "    \n",
      "    >>> signal.unit_impulse(7, 2)\n",
      "    array([ 0.,  0.,  1.,  0.,  0.,  0.,  0.])\n",
      "    \n",
      "    2-dimensional impulse, centered:\n",
      "    \n",
      "    >>> signal.unit_impulse((3, 3), 'mid')\n",
      "    array([[ 0.,  0.,  0.],\n",
      "           [ 0.,  1.,  0.],\n",
      "           [ 0.,  0.,  0.]])\n",
      "    \n",
      "    Impulse at (2, 2), using broadcasting:\n",
      "    \n",
      "    >>> signal.unit_impulse((4, 4), 2)\n",
      "    array([[ 0.,  0.,  0.,  0.],\n",
      "           [ 0.,  0.,  0.,  0.],\n",
      "           [ 0.,  0.,  1.,  0.],\n",
      "           [ 0.,  0.,  0.,  0.]])\n",
      "    \n",
      "    Plot the impulse response of a 4th-order Butterworth lowpass filter:\n",
      "    \n",
      "    >>> imp = signal.unit_impulse(100, 'mid')\n",
      "    >>> b, a = signal.butter(4, 0.2)\n",
      "    >>> response = signal.lfilter(b, a, imp)\n",
      "    \n",
      "    >>> import matplotlib.pyplot as plt\n",
      "    >>> plt.plot(np.arange(-50, 50), imp)\n",
      "    >>> plt.plot(np.arange(-50, 50), response)\n",
      "    >>> plt.margins(0.1, 0.1)\n",
      "    >>> plt.xlabel('Time [samples]')\n",
      "    >>> plt.ylabel('Amplitude')\n",
      "    >>> plt.grid(True)\n",
      "    >>> plt.show()\n",
      "\n"
     ]
    }
   ],
   "source": [
    "help(signal.unit_impulse)"
   ]
  },
  {
   "cell_type": "code",
   "execution_count": 14,
   "id": "5afea76a",
   "metadata": {},
   "outputs": [
    {
     "data": {
      "image/png": "[encoded data removed]",
      "text/plain": [
       "<Figure size 432x288 with 1 Axes>"
      ]
     },
     "metadata": {
      "needs_background": "light"
     },
     "output_type": "display_data"
    }
   ],
   "source": [
    "# Frequency Response\n",
    "fig, ax1 = plt.subplots()\n",
    "ax1.set_title('Digital filter frequency response')\n",
    "ax1.set_ylabel('Angle(radians)', color='g')\n",
    "ax1.set_xlabel('Frequency [Hz]')\n",
    "\n",
    "angles = np.unwrap(np.angle(h))\n",
    "\n",
    "ax1.plot(w/2*np.pi, angles, 'g')\n",
    "ax1.grid()\n",
    "ax1.axis('tight')\n",
    "plt.show()"
   ]
  },
  {
   "cell_type": "code",
   "execution_count": null,
   "id": "61634a05",
   "metadata": {},
   "outputs": [],
   "source": []
  }
 ],
 "metadata": {
  "kernelspec": {
   "display_name": "Python 3 (ipykernel)",
   "language": "python",
   "name": "python3"
  },
  "language_info": {
   "codemirror_mode": {
    "name": "ipython",
    "version": 3
   },
   "file_extension": ".py",
   "mimetype": "text/x-python",
   "name": "python",
   "nbconvert_exporter": "python",
   "pygments_lexer": "ipython3",
   "version": "3.9.12"
  }
 },
 "nbformat": 4,
 "nbformat_minor": 5
}
